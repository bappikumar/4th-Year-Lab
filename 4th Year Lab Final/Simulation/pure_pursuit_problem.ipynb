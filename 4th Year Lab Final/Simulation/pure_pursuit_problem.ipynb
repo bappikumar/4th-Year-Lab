{
 "cells": [
  {
   "cell_type": "code",
   "execution_count": null,
   "id": "b75ed292",
   "metadata": {},
   "outputs": [],
   "source": [
    "import random\n",
    "import math\n",
    "flag = 0\n",
    "vf = 20\n",
    "time = 0\n",
    "\n",
    "xf = random.randint(1, 1000)\n",
    "yf = random.randint(1, 1000)\n",
    "xb = random.randint(1, 1000)\n",
    "yb = random.randint(1, 1000)\n",
    "\n",
    "while flag == 0:\n",
    "    distance = math.sqrt((xf-xb)**2 + (yf-yb)**2)\n",
    "    print(\"time = \",time, \"xf = \",xf, \"yf = \",yf,\"input_xb = \",xb, \"input_yb = \",yb, \"distance = \",distance)\n",
    "    if distance <= 100:\n",
    "        print(\"The Bomber plane shot down at time\", time)\n",
    "        flag = 1\n",
    "    elif distance > 1000:\n",
    "        printf(\"The Bomber plane escape at time\", time)\n",
    "        flag = 1\n",
    "    else:\n",
    "        xf = xf + vf*(xb-xf)/distance\n",
    "        yf = yf + vf*(yb-yf)/distance\n",
    "        xb = random.randint(1, 1000)\n",
    "        yb = random.randint(1, 1000)\n",
    "        \n",
    "        time += 1\n",
    "        "
   ]
  },
  {
   "cell_type": "code",
   "execution_count": null,
   "id": "65fcd799",
   "metadata": {},
   "outputs": [],
   "source": []
  }
 ],
 "metadata": {
  "kernelspec": {
   "display_name": "Python 3 (ipykernel)",
   "language": "python",
   "name": "python3"
  },
  "language_info": {
   "codemirror_mode": {
    "name": "ipython",
    "version": 3
   },
   "file_extension": ".py",
   "mimetype": "text/x-python",
   "name": "python",
   "nbconvert_exporter": "python",
   "pygments_lexer": "ipython3",
   "version": "3.9.12"
  }
 },
 "nbformat": 4,
 "nbformat_minor": 5
}
